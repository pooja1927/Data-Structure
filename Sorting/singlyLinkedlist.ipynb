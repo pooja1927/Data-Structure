{
 "cells": [
  {
   "cell_type": "code",
   "execution_count": 1,
   "metadata": {},
   "outputs": [
    {
     "name": "stdout",
     "output_type": "stream",
     "text": [
      "linkedlist is empty\n"
     ]
    }
   ],
   "source": [
    "class node:\n",
    "    def __init__(self,data):\n",
    "        self.data= data\n",
    "        self.ref= None\n",
    "\n",
    "class LinkedList:\n",
    "    def __init__(self,):\n",
    "     self.head=None\n",
    "\n",
    "    def printLL(self):\n",
    "        if self.head is None:\n",
    "            print(\"linkedlist is empty\")\n",
    "        else:\n",
    "            n=self.head\n",
    "            while n is not None:\n",
    "                print(n.data,'-->', end=\" \")\n",
    "                n = n.ref\n",
    "\n",
    "    \n",
    "\n",
    "\n",
    "            \n",
    "LL= LinkedList()\n",
    "LL.printLL()\n",
    "\n"
   ]
  },
  {
   "cell_type": "code",
   "execution_count": 2,
   "metadata": {},
   "outputs": [
    {
     "name": "stdout",
     "output_type": "stream",
     "text": [
      "40 --> 10 --> 20 --> 30 --> "
     ]
    }
   ],
   "source": [
    "class node:\n",
    "    def __init__(self,data):\n",
    "        self.data=data\n",
    "        self.ref=None\n",
    "\n",
    "class LinkedList:\n",
    "    def __init__(self): \n",
    "        self.head= None\n",
    "    \n",
    "    def printLL(self):\n",
    "        if self.head is None:\n",
    "            print('LinkedList is empty')\n",
    "        else:\n",
    "            n = self.head\n",
    "            while n is not None:\n",
    "                print(n.data, \"-->\", end=\" \")\n",
    "                n = n.ref\n",
    "    \n",
    "    def addBegin(self,data):\n",
    "        new_node= node(data)\n",
    "        new_node.ref= self.head\n",
    "        self.head= new_node\n",
    "\n",
    "LL = LinkedList()\n",
    "LL.addBegin(30)\n",
    "LL.addBegin(20)\n",
    "LL.addBegin(10)\n",
    "LL.addBegin(40)\n",
    "LL.printLL()\n"
   ]
  },
  {
   "cell_type": "code",
   "execution_count": null,
   "metadata": {},
   "outputs": [],
   "source": []
  }
 ],
 "metadata": {
  "kernelspec": {
   "display_name": "Python 3",
   "language": "python",
   "name": "python3"
  },
  "language_info": {
   "codemirror_mode": {
    "name": "ipython",
    "version": 3
   },
   "file_extension": ".py",
   "mimetype": "text/x-python",
   "name": "python",
   "nbconvert_exporter": "python",
   "pygments_lexer": "ipython3",
   "version": "3.7.9"
  }
 },
 "nbformat": 4,
 "nbformat_minor": 2
}
